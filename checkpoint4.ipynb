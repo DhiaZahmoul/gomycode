{
 "cells": [
  {
   "cell_type": "code",
   "execution_count": 16,
   "id": "a0c9f98b",
   "metadata": {},
   "outputs": [
    {
     "name": "stdout",
     "output_type": "stream",
     "text": [
      "35\n"
     ]
    }
   ],
   "source": [
    "def nummax(a,b,c):\n",
    "    if a<c and b<c:\n",
    "        return(c)\n",
    "    if b<a and c<a:\n",
    "        return(a)\n",
    "    if a<b and c<b:\n",
    "            return(b)\n",
    "x=nummax(20,35,19)\n",
    "print(x)\n",
    "\n",
    "        "
   ]
  },
  {
   "cell_type": "code",
   "execution_count": 31,
   "id": "51f92f28",
   "metadata": {
    "scrolled": true
   },
   "outputs": [
    {
     "name": "stdout",
     "output_type": "stream",
     "text": [
      "50\n",
      "10\n",
      "(60, 40)\n"
     ]
    }
   ],
   "source": [
    "a=int(input())\n",
    "b=int(input())\n",
    "def sub_add(a,b):\n",
    "    c=(a+b,a-b)\n",
    "    return(c)\n",
    "x=sub_add(a,b)\n",
    "print(x)   "
   ]
  },
  {
   "cell_type": "code",
   "execution_count": 29,
   "id": "86c94ed7",
   "metadata": {},
   "outputs": [
    {
     "name": "stdout",
     "output_type": "stream",
     "text": [
      "26\n",
      "3360\n",
      "15\n",
      "40\n"
     ]
    }
   ],
   "source": [
    "list=[1,2,3,4,4,5,7]\n",
    "total=sum(list)\n",
    "print(total)\n",
    "def multiple(list1):\n",
    "    result=1\n",
    "    for i in list1:\n",
    "        result=result*i\n",
    "    return result \n",
    "print(multiple(list))\n",
    "l1=[]\n",
    "l2=[]\n",
    "for i in range(0,len(list),2):\n",
    "    l1.append(list[i])\n",
    "    x=sum(l1)\n",
    "print(x)\n",
    "for i in range (1,len(list),2):\n",
    "    l2.append(list[i])\n",
    "    y=multiple(l2)\n",
    "print(y)\n",
    "    \n"
   ]
  },
  {
   "cell_type": "code",
   "execution_count": 34,
   "id": "e2979ff6",
   "metadata": {},
   "outputs": [
    {
     "name": "stdout",
     "output_type": "stream",
     "text": [
      "green-red-yellow-black-white\n",
      "black-green-red-white-yellow\n"
     ]
    }
   ],
   "source": [
    "items=input()\n",
    "x=items.split(\"-\")\n",
    "x.sort()\n",
    "print(\"-\".join(x))"
   ]
  },
  {
   "cell_type": "code",
   "execution_count": 36,
   "id": "c2ff4257",
   "metadata": {},
   "outputs": [
    {
     "ename": "SyntaxError",
     "evalue": "invalid syntax (<ipython-input-36-6adc9301cea4>, line 2)",
     "output_type": "error",
     "traceback": [
      "\u001b[1;36m  File \u001b[1;32m\"<ipython-input-36-6adc9301cea4>\"\u001b[1;36m, line \u001b[1;32m2\u001b[0m\n\u001b[1;33m    h=(input\"please insert the effectif of the list\")\u001b[0m\n\u001b[1;37m            ^\u001b[0m\n\u001b[1;31mSyntaxError\u001b[0m\u001b[1;31m:\u001b[0m invalid syntax\n"
     ]
    }
   ],
   "source": [
    "h=[]\n",
    "h=(input\"please insert the effectif of the list\")\n",
    "def mult(c,h,d):\n",
    "       [(2 * C * D)/H]\n",
    "c=50\n",
    "d=30\n",
    "\n"
   ]
  },
  {
   "cell_type": "code",
   "execution_count": null,
   "id": "f48225f7",
   "metadata": {},
   "outputs": [],
   "source": [
    "from math import"
   ]
  },
  {
   "cell_type": "code",
   "execution_count": 37,
   "id": "b11c76a9",
   "metadata": {},
   "outputs": [
    {
     "name": "stdout",
     "output_type": "stream",
     "text": [
      "Provide D: 100,150,180\n",
      "[18, 22, 24]\n"
     ]
    }
   ],
   "source": [
    "import math\n",
    "\n",
    "numbers = input(\"Provide D: \")\n",
    "numbers = numbers.split(',')\n",
    "\n",
    "result_list = []\n",
    "for D in numbers:\n",
    "    Q = round(math.sqrt(2 * 50 * int(D) / 30))\n",
    "    result_list.append(Q)\n",
    "\n",
    "print(result_list)"
   ]
  },
  {
   "cell_type": "code",
   "execution_count": null,
   "id": "0257b87c",
   "metadata": {},
   "outputs": [],
   "source": []
  }
 ],
 "metadata": {
  "kernelspec": {
   "display_name": "Python 3",
   "language": "python",
   "name": "python3"
  },
  "language_info": {
   "codemirror_mode": {
    "name": "ipython",
    "version": 3
   },
   "file_extension": ".py",
   "mimetype": "text/x-python",
   "name": "python",
   "nbconvert_exporter": "python",
   "pygments_lexer": "ipython3",
   "version": "3.8.8"
  }
 },
 "nbformat": 4,
 "nbformat_minor": 5
}
