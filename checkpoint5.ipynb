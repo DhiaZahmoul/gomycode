{
 "cells": [
  {
   "cell_type": "code",
   "execution_count": 9,
   "id": "2600b79c",
   "metadata": {},
   "outputs": [],
   "source": [
    "class point3d:\n",
    "    def __init__(self,x,y,z):\n",
    "        self.x=x\n",
    "        self.y=y\n",
    "        self.z=z\n",
    "        \n",
    "        \n",
    "\n",
    "mypoint=point3d(1,2,3)\n",
    "print(\"x={} y={} z={}\".format(mypoint.x,mypoint.y,mypoint.z) )\n",
    "        \n",
    "    "
   ]
  },
  {
   "cell_type": "code",
   "execution_count": 5,
   "id": "29562feb",
   "metadata": {},
   "outputs": [
    {
     "name": "stdout",
     "output_type": "stream",
     "text": [
      "(12, 14)\n"
     ]
    }
   ],
   "source": [
    "class Rectangle:\n",
    "              \n",
    "\n",
    "    def __init__(self, length, width):\n",
    "         self.length = length\n",
    "         self.width = width\n",
    "           \n",
    "    \n",
    "    def compute_area(self,length,width):\n",
    "        return self.length * self.width\n",
    "    \n",
    "   \n",
    "    def compute_perimeter(self,length,width):\n",
    "        return 2 * (self.length+self.width)\n",
    "\n",
    "\n",
    "object1 = Rectangle(4,3)\n",
    "\n",
    "\n",
    "area = object1.compute_area(4,3)\n",
    "perimeter = object1.compute_perimeter(4,3)\n",
    "myrectangle=(area,perimeter)\n",
    "\n",
    "print(myrectangle)"
   ]
  },
  {
   "cell_type": "code",
   "execution_count": 19,
   "id": "11e65fc3",
   "metadata": {},
   "outputs": [
    {
     "name": "stdout",
     "output_type": "stream",
     "text": [
      "the point is inside\n",
      "(50.24, 25.12)\n"
     ]
    }
   ],
   "source": [
    "class Circle():\n",
    "    def __init__(self, radius,centre):\n",
    "        self.radius = radius\n",
    "        \n",
    "\n",
    "    def area(self,raduis,centre):\n",
    "        return self.radius**2*3.14\n",
    "    \n",
    "    def perimeter(self,raduis,centre):\n",
    "        return 2*self.radius*3.14\n",
    "    \n",
    "    def isinside(self,raduis,centre,A):\n",
    "        if A-centre<raduis or A-centre==raduis:\n",
    "            print(\"the point is inside\")\n",
    "        else:\n",
    "            print(\"the point is outside\")\n",
    "        \n",
    "\n",
    "object1 = Circle(4,3)\n",
    "area = object1.area(4,3)\n",
    "raduis = object1.perimeter(4,3)\n",
    "isinside=object1.isinside(4,3,5)\n",
    "x=(area,raduis)\n",
    "\n",
    "print(x)\n",
    "\n"
   ]
  },
  {
   "cell_type": "code",
   "execution_count": 22,
   "id": "c23acd22",
   "metadata": {},
   "outputs": [
    {
     "name": "stdout",
     "output_type": "stream",
     "text": [
      "how much is your balance?500\n",
      "how much would you like to deposit?45\n",
      "how much would you like to withdraw?25\n",
      "after the deposit your balance is: 520\n"
     ]
    }
   ],
   "source": [
    "class bank:\n",
    "    \n",
    "    \n",
    "    def __init__(self,t):\n",
    "        \n",
    "        self.total=t\n",
    "        \n",
    "\n",
    "    def deposit(self,val):\n",
    "        \n",
    "            \n",
    "            self.total=self.total+val\n",
    "            \n",
    "            return self.total\n",
    "    \n",
    "        \n",
    "    def withdraw(self,val):\n",
    "        \n",
    "            self.total=self.total-val\n",
    "            \n",
    "      \n",
    "            return self.total\n",
    "            \n",
    "\n",
    "            \n",
    "    \n",
    "            \n",
    "x=int(input(\"how much is your balance?\"))\n",
    "a=int(input(\"how much would you like to deposit?\"))\n",
    "b=int(input(\"how much would you like to withdraw?\"))\n",
    "myaccount=bank(x)\n",
    "y=myaccount.deposit(a)\n",
    "z=myaccount.withdraw(b)\n",
    "print(\"after the deposit your balance is:\",z)\n",
    "\n",
    "     \n",
    "           \n"
   ]
  },
  {
   "cell_type": "code",
   "execution_count": null,
   "id": "b53aead4",
   "metadata": {},
   "outputs": [],
   "source": []
  }
 ],
 "metadata": {
  "kernelspec": {
   "display_name": "Python 3",
   "language": "python",
   "name": "python3"
  },
  "language_info": {
   "codemirror_mode": {
    "name": "ipython",
    "version": 3
   },
   "file_extension": ".py",
   "mimetype": "text/x-python",
   "name": "python",
   "nbconvert_exporter": "python",
   "pygments_lexer": "ipython3",
   "version": "3.8.8"
  }
 },
 "nbformat": 4,
 "nbformat_minor": 5
}
