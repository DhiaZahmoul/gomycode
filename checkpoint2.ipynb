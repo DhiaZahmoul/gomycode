{
 "cells": [
  {
   "cell_type": "code",
   "execution_count": 4,
   "id": "5323407c",
   "metadata": {},
   "outputs": [
    {
     "name": "stdout",
     "output_type": "stream",
     "text": [
      "enter your first name:dhia\n",
      "enter your last name:zahmoul\n",
      "zahmoul dhia\n"
     ]
    }
   ],
   "source": [
    "a=input(\"enter your first name:\")\n",
    "b=input(\"enter your last name:\")\n",
    "print(b,a)"
   ]
  },
  {
   "cell_type": "code",
   "execution_count": 1,
   "id": "28c300e6",
   "metadata": {},
   "outputs": [
    {
     "name": "stdout",
     "output_type": "stream",
     "text": [
      "enter a number:5\n",
      "615\n"
     ]
    }
   ],
   "source": [
    "n=input(\"enter a number:\")\n",
    "x=str(n+n)\n",
    "y=str(n+n+n)\n",
    "x=int(x)\n",
    "y=int(y)\n",
    "z=int(n)+int(x)+int(y)\n",
    "print(z)"
   ]
  },
  {
   "cell_type": "code",
   "execution_count": 41,
   "id": "6545f47e",
   "metadata": {},
   "outputs": [
    {
     "name": "stdout",
     "output_type": "stream",
     "text": [
      "5\n",
      "the number selected is an odd number\n"
     ]
    }
   ],
   "source": [
    "a=input(\"enter a number:\")\n",
    "a=int(a)\n",
    "if (a%2)==0:\n",
    "    print(\"the number selected is an even number\")\n",
    "else:\n",
    "    print(\"the number selected is an odd number\")"
   ]
  },
  {
   "cell_type": "code",
   "execution_count": 66,
   "id": "4b6eb466",
   "metadata": {},
   "outputs": [
    {
     "name": "stdout",
     "output_type": "stream",
     "text": [
      "2002,2009,2016,2023,2037,2044,2051,2058,2072,2079,2086,2093,2107,2114,2121,2128,2142,2149,2156,2163,2177,2184,2191,2198,2212,2219,2226,2233,2247,2254,2261,2268,2282,2289,2296,2303,2317,2324,2331,2338,2352,2359,2366,2373,2387,2394,2401,2408,2422,2429,2436,2443,2457,2464,2471,2478,2492,2499,2506,2513,2527,2534,2541,2548,2562,2569,2576,2583,2597,2604,2611,2618,2632,2639,2646,2653,2667,2674,2681,2688,2702,2709,2716,2723,2737,2744,2751,2758,2772,2779,2786,2793,2807,2814,2821,2828,2842,2849,2856,2863,2877,2884,2891,2898,2912,2919,2926,2933,2947,2954,2961,2968,2982,2989,2996,3003,3017,3024,3031,3038,3052,3059,3066,3073,3087,3094,3101,3108,3122,3129,3136,3143,3157,3164,3171,3178,3192,3199,"
     ]
    }
   ],
   "source": [
    "for i in range(2000,3201):\n",
    "    if i%7==0 and i%5!=0:\n",
    "        print(i,end= \",\")\n",
    "    \n",
    "\n",
    "    "
   ]
  },
  {
   "cell_type": "code",
   "execution_count": 7,
   "id": "10a9660d",
   "metadata": {},
   "outputs": [
    {
     "name": "stdout",
     "output_type": "stream",
     "text": [
      "Enter the number:8\n",
      "Factorial of 8 is 40320\n"
     ]
    }
   ],
   "source": [
    "import math\n",
    "def fact(n):\n",
    "    return(math.factorial(n))\n",
    "num = int(input(\"Enter the number:\"))\n",
    "f = fact(num)\n",
    "print(\"Factorial of\", num, \"is\", f)"
   ]
  },
  {
   "cell_type": "code",
   "execution_count": 9,
   "id": "e5cd585d",
   "metadata": {},
   "outputs": [
    {
     "name": "stdout",
     "output_type": "stream",
     "text": [
      "hlota\n"
     ]
    }
   ],
   "source": [
    "def odd_values_string(str):\n",
    "  result = \"\" \n",
    "  for i in range(len(str)):\n",
    "    if i % 2 == 0:\n",
    "      result = result + str[i]\n",
    "  return result\n",
    "\n",
    "print(odd_values_string(\"hello team\"))\n"
   ]
  },
  {
   "cell_type": "code",
   "execution_count": 13,
   "id": "e5c00146",
   "metadata": {},
   "outputs": [
    {
     "name": "stdout",
     "output_type": "stream",
     "text": [
      "please enter the price you wich to know the discount for it: 120\n",
      "the discount is for 10% the price is now: 108.0\n"
     ]
    }
   ],
   "source": [
    "price=input(\"please enter the price you wich to know the discount for it: \")\n",
    "price=int(price)\n",
    "if 500<price:\n",
    "    x=price*50/100\n",
    "    print(\"the discount is for 50%\",\n",
    "         \"the price is now:\",x)\n",
    "elif price<500 and 200<price:\n",
    "    x=price*70/100\n",
    "    print(\"the discount is for 30%\",\n",
    "         \"the price is now:\",x)\n",
    "else:\n",
    "    x=price*90/100\n",
    "    print(\"the discount is for 10%\",\n",
    "         \"the price is now:\",x)"
   ]
  },
  {
   "cell_type": "code",
   "execution_count": null,
   "id": "e88fa8e9",
   "metadata": {},
   "outputs": [],
   "source": []
  }
 ],
 "metadata": {
  "kernelspec": {
   "display_name": "Python 3",
   "language": "python",
   "name": "python3"
  },
  "language_info": {
   "codemirror_mode": {
    "name": "ipython",
    "version": 3
   },
   "file_extension": ".py",
   "mimetype": "text/x-python",
   "name": "python",
   "nbconvert_exporter": "python",
   "pygments_lexer": "ipython3",
   "version": "3.8.8"
  }
 },
 "nbformat": 4,
 "nbformat_minor": 5
}
